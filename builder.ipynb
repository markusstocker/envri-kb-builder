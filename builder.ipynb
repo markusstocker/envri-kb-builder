{
 "cells": [
  {
   "cell_type": "code",
   "execution_count": 1,
   "metadata": {},
   "outputs": [],
   "source": [
    "import yaml\n",
    "from rdflib import Graph, URIRef, Literal, BNode\n",
    "from rdflib.namespace import RDF, RDFS, XSD\n",
    "\n",
    "RM = dict()\n",
    "\n",
    "RM['Research Infrastructure'] = URIRef('http://www.oil-e.net/ontology/envri-rm.owl#ResearchInfrastructure')\n",
    "\n",
    "def process(document):\n",
    "    n1 = URIRef(document['web'])\n",
    "\n",
    "    g.add((n1, RDF.type, RM['Research Infrastructure']))\n",
    "    g.add((n1, RDFS.label, Literal(document['label'])))\n",
    "    \n",
    "    \n",
    "g = Graph()\n",
    "\n",
    "with open('data.yaml', \"r\") as f:\n",
    "    for document in yaml.load_all(f, Loader=yaml.FullLoader):\n",
    "        process(document)\n",
    "    \n",
    "g.serialize(destination='data.n3', format='n3')"
   ]
  },
  {
   "cell_type": "code",
   "execution_count": null,
   "metadata": {},
   "outputs": [],
   "source": []
  }
 ],
 "metadata": {
  "kernelspec": {
   "display_name": "Python 3",
   "language": "python",
   "name": "python3"
  },
  "language_info": {
   "codemirror_mode": {
    "name": "ipython",
    "version": 3
   },
   "file_extension": ".py",
   "mimetype": "text/x-python",
   "name": "python",
   "nbconvert_exporter": "python",
   "pygments_lexer": "ipython3",
   "version": "3.7.1"
  }
 },
 "nbformat": 4,
 "nbformat_minor": 2
}
