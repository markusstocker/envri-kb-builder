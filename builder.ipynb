{
 "cells": [
  {
   "cell_type": "code",
   "execution_count": 8,
   "metadata": {},
   "outputs": [],
   "source": [
    "import yaml\n",
    "from rdflib import Graph, URIRef, Literal, BNode\n",
    "from rdflib.namespace import RDF, RDFS, XSD\n",
    "\n",
    "RM = dict()\n",
    "\n",
    "RM['ResearchInfrastructure'] = URIRef('http://www.oil-e.net/ontology/envri-rm.owl#ResearchInfrastructure')\n",
    "RM['hasRepository'] = URIRef('http://www.oil-e.net/ontology/envri-rm.owl#hasRepository')\n",
    "\n",
    "def process(document):\n",
    "    n1 = URIRef(document['web'])\n",
    "\n",
    "    g.add((n1, RDF.type, RM['ResearchInfrastructure']))\n",
    "    g.add((n1, RDFS.label, Literal(document['label'])))\n",
    "    \n",
    "    if 'repositories' in document:\n",
    "        for repository in document['repositories']:\n",
    "            n2 = BNode()\n",
    "            g.add((n1, RM['hasRepository'], n2))\n",
    "            g.add((n2, RDFS.label, Literal(repository['name'])))\n",
    "            g.add((n2, URIRef('http://example.org#url'), URIRef(repository['url'])))\n",
    "    \n",
    "    \n",
    "g = Graph()\n",
    "\n",
    "with open('data.yaml', \"r\") as f:\n",
    "    for document in yaml.load_all(f, Loader=yaml.FullLoader):\n",
    "        process(document)\n",
    "    \n",
    "g.serialize(destination='data.n3', format='n3')"
   ]
  },
  {
   "cell_type": "code",
   "execution_count": 11,
   "metadata": {},
   "outputs": [
    {
     "data": {
      "text/html": [
       "<div>\n",
       "<style scoped>\n",
       "    .dataframe tbody tr th:only-of-type {\n",
       "        vertical-align: middle;\n",
       "    }\n",
       "\n",
       "    .dataframe tbody tr th {\n",
       "        vertical-align: top;\n",
       "    }\n",
       "\n",
       "    .dataframe thead th {\n",
       "        text-align: right;\n",
       "    }\n",
       "</style>\n",
       "<table border=\"1\" class=\"dataframe\">\n",
       "  <thead>\n",
       "    <tr style=\"text-align: right;\">\n",
       "      <th></th>\n",
       "      <th>s</th>\n",
       "    </tr>\n",
       "  </thead>\n",
       "  <tbody>\n",
       "    <tr>\n",
       "      <th>0</th>\n",
       "      <td>http://emso.net</td>\n",
       "    </tr>\n",
       "    <tr>\n",
       "      <th>1</th>\n",
       "      <td>http://www.icos-ri.eu</td>\n",
       "    </tr>\n",
       "    <tr>\n",
       "      <th>2</th>\n",
       "      <td>http://www.lter.net</td>\n",
       "    </tr>\n",
       "  </tbody>\n",
       "</table>\n",
       "</div>"
      ],
      "text/plain": [
       "                       s\n",
       "0        http://emso.net\n",
       "1  http://www.icos-ri.eu\n",
       "2    http://www.lter.net"
      ]
     },
     "metadata": {},
     "output_type": "display_data"
    }
   ],
   "source": [
    "import io\n",
    "import pandas as pd\n",
    "from rdflib.plugins.sparql.results.csvresults import CSVResultSerializer\n",
    "\n",
    "q = \"\"\"\n",
    "PREFIX rm: <http://www.oil-e.net/ontology/envri-rm.owl#>\n",
    "\n",
    "SELECT * WHERE {\n",
    "?s a rm:ResearchInfrastructure .\n",
    "}\n",
    "\"\"\"\n",
    "\n",
    "serializer = CSVResultSerializer(g.query(q))\n",
    "output = io.BytesIO()\n",
    "serializer.serialize(output)\n",
    "display(pd.read_csv(io.StringIO(output.getvalue().decode('utf-8'))))"
   ]
  },
  {
   "cell_type": "code",
   "execution_count": null,
   "metadata": {},
   "outputs": [],
   "source": []
  }
 ],
 "metadata": {
  "kernelspec": {
   "display_name": "Python 3",
   "language": "python",
   "name": "python3"
  },
  "language_info": {
   "codemirror_mode": {
    "name": "ipython",
    "version": 3
   },
   "file_extension": ".py",
   "mimetype": "text/x-python",
   "name": "python",
   "nbconvert_exporter": "python",
   "pygments_lexer": "ipython3",
   "version": "3.7.1"
  }
 },
 "nbformat": 4,
 "nbformat_minor": 2
}
